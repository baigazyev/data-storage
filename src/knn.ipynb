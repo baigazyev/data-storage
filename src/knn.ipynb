{
 "cells": [
  {
   "cell_type": "code",
   "execution_count": 28,
   "id": "83fbd58e",
   "metadata": {},
   "outputs": [],
   "source": [
    "import numpy as np\n",
    "import pandas as pd\n",
    "from sklearn.metrics.pairwise import euclidean_distances\n",
    "from sklearn.preprocessing import StandardScaler\n",
    "from scipy.spatial.distance import hamming"
   ]
  },
  {
   "cell_type": "code",
   "execution_count": 89,
   "id": "5f3e114a",
   "metadata": {},
   "outputs": [],
   "source": [
    "def get_cont_cat(dataframe, var_type):\n",
    "    '''\n",
    "    Function to split and return the dataframe by the variable type needed.\n",
    "    \n",
    "    I/P:\n",
    "    'dataframe': whole data as a pandas dataframe\n",
    "    'var_type': variable type, \"cont\" or \"cat\", string\n",
    "    \n",
    "    O/P:\n",
    "    'dataframe': dataframe with only columns of the needed variable type\n",
    "    '''\n",
    "    # Convert any series to dataframe\n",
    "    if not isinstance(dataframe, pd.DataFrame):\n",
    "        print('ip is not dataframe')\n",
    "    cont_cols = ['dist_from_uni', 'budget']\n",
    "    \n",
    "    if var_type == 'cont':\n",
    "        return dataframe[cont_cols]\n",
    "    \n",
    "    elif var_type == 'cat':\n",
    "        return dataframe.drop(labels = cont_cols, axis = 1)\n",
    "    \n",
    "    else: raise ValueError('Variable type should be either \"cont\" or \"cat\"')"
   ]
  },
  {
   "cell_type": "code",
   "execution_count": 37,
   "id": "223501e7",
   "metadata": {},
   "outputs": [],
   "source": [
    "def get_cont_dist(person, database, metric):\n",
    "    \n",
    "    '''\n",
    "    Function that returns a distance matrix for continuous features of the data.\n",
    "    Feature normalization happens in here.\n",
    "    I/P:\n",
    "    'person': 1 x 3 numpy array of 1 person\n",
    "    'database': (total data length) x 3 numpy array\n",
    "    'metric': distance metric to be used for computation. One of: euclidean.\n",
    "    \n",
    "    O/P:\n",
    "    'distance_matrix': 1 x (total data length) numpy array of distances\n",
    "    '''\n",
    "#     print('sdkfjsdkf')\n",
    "\n",
    "    to_std = np.vstack((person, database))\n",
    "    \n",
    "    all_std = StandardScaler().fit_transform(to_std)\n",
    "    person_std = all_std[0,:].reshape(1,-1)\n",
    "    database_std = all_std[1:,:]\n",
    "    \n",
    "    if metric == 'euclidean':\n",
    "        cont_distance_matrix = euclidean_distances(person_std, database_std)\n",
    "        return cont_distance_matrix"
   ]
  },
  {
   "cell_type": "code",
   "execution_count": 38,
   "id": "23446b59",
   "metadata": {},
   "outputs": [],
   "source": [
    "def get_cat_dist(person, database, metric):\n",
    "    '''\n",
    "    Function that returns a distance matrix for categorical features of the data.\n",
    "    I/P:\n",
    "    'person': 1 x 3 numpy array of 1 person\n",
    "    'database': (total data length) x 3 numpy array\n",
    "    'metric': distance metric to be used for computation. One of: hamming\n",
    "    \n",
    "    O/P:\n",
    "    'distance_matrix': 1 x (total data length) numpy array of distances\n",
    "    '''\n",
    "    cat_distance_matrix = []\n",
    "    if metric == 'hamming':\n",
    "        for index, c_row in database.iterrows():\n",
    "            cat_distance_matrix.append(hamming(person, c_row))\n",
    "    return(np.array(cat_distance_matrix))"
   ]
  },
  {
   "cell_type": "code",
   "execution_count": 118,
   "id": "4145b7ad",
   "metadata": {},
   "outputs": [],
   "source": [
    "def findRoommate(new_person, database, n_roommates, alpha, beta):\n",
    "    # Split data by gender to reduce computations\n",
    "    database_g = database[database['Gender'] == new_person.iloc[0]['Gender']]\n",
    "#     print(len(database_g))\n",
    "    name_g = [name_list[i] for i in list(database_g.index)]\n",
    "#     print(name_g)\n",
    "\n",
    "    # Split new datapoint into continuous and categorical sets\n",
    "    new_person_cont = get_cont_cat(new_person, 'cont')\n",
    "    new_person_cat = get_cont_cat(new_person, 'cat')\n",
    "    \n",
    "#     print(new_person_cat.shape, new_person_cont.shape)\n",
    "    \n",
    "    # Split database into continuous and categorical sets\n",
    "    database_cont = get_cont_cat(database_g, 'cont')\n",
    "    database_cat = get_cont_cat(database_g, 'cat')\n",
    "    \n",
    "#     print(database_cat.shape, database_cont.shape)\n",
    "    \n",
    "    \n",
    "    # Get distances for both continuous and categorical sets\n",
    "    dist_cont = get_cont_dist(new_person_cont, database_cont, 'euclidean')\n",
    "#     print(dist_cont.shape, np.argsort(dist_cont))\n",
    "    \n",
    "    \n",
    "\n",
    "    dist_cat = get_cat_dist(new_person_cat, database_cat, 'hamming')\n",
    "    \n",
    "#     print(dist_cont + dist_cat)\n",
    "    # Create final distance matrix of weighted average\n",
    "    # Have to experiment with different alpha(cont_coeff) and beta(cat_coeff)\n",
    "    # We good till here\n",
    "    final_dist = alpha*dist_cont + beta*dist_cat\n",
    "#     print(final_dist)\n",
    "    # Sort the distance matrix to get top n roommates\n",
    "    top_n_matches = np.argsort(final_dist)[0][1 : n_roommates + 1]\n",
    "    print(top_n_matches)\n",
    "    print(list(name_g[j] for j in top_n_matches))"
   ]
  },
  {
   "cell_type": "code",
   "execution_count": 80,
   "id": "f3cd3d8e",
   "metadata": {},
   "outputs": [],
   "source": [
    "meta_data = pd.read_csv('./data/roommates2.csv')"
   ]
  },
  {
   "cell_type": "code",
   "execution_count": 81,
   "id": "bc42cd43",
   "metadata": {},
   "outputs": [
    {
     "data": {
      "text/plain": [
       "Index(['No', 'Uni', 'Email address', 'Gender', 'Last Name', 'First Name',\n",
       "       'Smoking', 'Alcohol', 'Nationality', 'School', 'Major', 'Habit',\n",
       "       'Roommate', 'budget', 'dist_from_uni'],\n",
       "      dtype='object')"
      ]
     },
     "execution_count": 81,
     "metadata": {},
     "output_type": "execute_result"
    }
   ],
   "source": [
    "meta_data.columns"
   ]
  },
  {
   "cell_type": "code",
   "execution_count": 82,
   "id": "3424f29d",
   "metadata": {},
   "outputs": [],
   "source": [
    "meta_data = meta_data.drop(labels=['Email address', 'No', 'Last Name', 'First Name', 'Nationality', 'School', 'Major'], axis=1)"
   ]
  },
  {
   "cell_type": "code",
   "execution_count": 83,
   "id": "e6aabb28",
   "metadata": {},
   "outputs": [
    {
     "data": {
      "text/html": [
       "<div>\n",
       "<style scoped>\n",
       "    .dataframe tbody tr th:only-of-type {\n",
       "        vertical-align: middle;\n",
       "    }\n",
       "\n",
       "    .dataframe tbody tr th {\n",
       "        vertical-align: top;\n",
       "    }\n",
       "\n",
       "    .dataframe thead th {\n",
       "        text-align: right;\n",
       "    }\n",
       "</style>\n",
       "<table border=\"1\" class=\"dataframe\">\n",
       "  <thead>\n",
       "    <tr style=\"text-align: right;\">\n",
       "      <th></th>\n",
       "      <th>Uni</th>\n",
       "      <th>Gender</th>\n",
       "      <th>Smoking</th>\n",
       "      <th>Alcohol</th>\n",
       "      <th>Habit</th>\n",
       "      <th>Roommate</th>\n",
       "      <th>budget</th>\n",
       "      <th>dist_from_uni</th>\n",
       "    </tr>\n",
       "  </thead>\n",
       "  <tbody>\n",
       "    <tr>\n",
       "      <th>0</th>\n",
       "      <td>hs2498</td>\n",
       "      <td>0</td>\n",
       "      <td>1</td>\n",
       "      <td>1</td>\n",
       "      <td>1</td>\n",
       "      <td>1</td>\n",
       "      <td>1000</td>\n",
       "      <td>5.0</td>\n",
       "    </tr>\n",
       "    <tr>\n",
       "      <th>1</th>\n",
       "      <td>ss4408</td>\n",
       "      <td>0</td>\n",
       "      <td>1</td>\n",
       "      <td>0</td>\n",
       "      <td>0</td>\n",
       "      <td>1</td>\n",
       "      <td>1100</td>\n",
       "      <td>2.5</td>\n",
       "    </tr>\n",
       "    <tr>\n",
       "      <th>2</th>\n",
       "      <td>bv1567</td>\n",
       "      <td>1</td>\n",
       "      <td>0</td>\n",
       "      <td>0</td>\n",
       "      <td>1</td>\n",
       "      <td>1</td>\n",
       "      <td>1300</td>\n",
       "      <td>2.0</td>\n",
       "    </tr>\n",
       "    <tr>\n",
       "      <th>3</th>\n",
       "      <td>ds7800</td>\n",
       "      <td>0</td>\n",
       "      <td>1</td>\n",
       "      <td>0</td>\n",
       "      <td>1</td>\n",
       "      <td>1</td>\n",
       "      <td>1600</td>\n",
       "      <td>3.0</td>\n",
       "    </tr>\n",
       "    <tr>\n",
       "      <th>4</th>\n",
       "      <td>ma9067</td>\n",
       "      <td>0</td>\n",
       "      <td>0</td>\n",
       "      <td>0</td>\n",
       "      <td>0</td>\n",
       "      <td>1</td>\n",
       "      <td>1500</td>\n",
       "      <td>3.3</td>\n",
       "    </tr>\n",
       "    <tr>\n",
       "      <th>...</th>\n",
       "      <td>...</td>\n",
       "      <td>...</td>\n",
       "      <td>...</td>\n",
       "      <td>...</td>\n",
       "      <td>...</td>\n",
       "      <td>...</td>\n",
       "      <td>...</td>\n",
       "      <td>...</td>\n",
       "    </tr>\n",
       "    <tr>\n",
       "      <th>3485</th>\n",
       "      <td>cd8293</td>\n",
       "      <td>1</td>\n",
       "      <td>0</td>\n",
       "      <td>1</td>\n",
       "      <td>0</td>\n",
       "      <td>1</td>\n",
       "      <td>1600</td>\n",
       "      <td>2.0</td>\n",
       "    </tr>\n",
       "    <tr>\n",
       "      <th>3486</th>\n",
       "      <td>wl1948</td>\n",
       "      <td>0</td>\n",
       "      <td>1</td>\n",
       "      <td>1</td>\n",
       "      <td>1</td>\n",
       "      <td>1</td>\n",
       "      <td>1650</td>\n",
       "      <td>3.5</td>\n",
       "    </tr>\n",
       "    <tr>\n",
       "      <th>3487</th>\n",
       "      <td>ka9393</td>\n",
       "      <td>1</td>\n",
       "      <td>1</td>\n",
       "      <td>0</td>\n",
       "      <td>0</td>\n",
       "      <td>1</td>\n",
       "      <td>1800</td>\n",
       "      <td>8.0</td>\n",
       "    </tr>\n",
       "    <tr>\n",
       "      <th>3488</th>\n",
       "      <td>rh6239</td>\n",
       "      <td>1</td>\n",
       "      <td>0</td>\n",
       "      <td>1</td>\n",
       "      <td>0</td>\n",
       "      <td>1</td>\n",
       "      <td>1100</td>\n",
       "      <td>4.5</td>\n",
       "    </tr>\n",
       "    <tr>\n",
       "      <th>3489</th>\n",
       "      <td>be8040</td>\n",
       "      <td>0</td>\n",
       "      <td>1</td>\n",
       "      <td>0</td>\n",
       "      <td>1</td>\n",
       "      <td>1</td>\n",
       "      <td>1300</td>\n",
       "      <td>1.0</td>\n",
       "    </tr>\n",
       "  </tbody>\n",
       "</table>\n",
       "<p>3490 rows × 8 columns</p>\n",
       "</div>"
      ],
      "text/plain": [
       "         Uni  Gender  Smoking  Alcohol  Habit  Roommate  budget  dist_from_uni\n",
       "0     hs2498       0        1        1      1         1    1000            5.0\n",
       "1     ss4408       0        1        0      0         1    1100            2.5\n",
       "2     bv1567       1        0        0      1         1    1300            2.0\n",
       "3     ds7800       0        1        0      1         1    1600            3.0\n",
       "4     ma9067       0        0        0      0         1    1500            3.3\n",
       "...      ...     ...      ...      ...    ...       ...     ...            ...\n",
       "3485  cd8293       1        0        1      0         1    1600            2.0\n",
       "3486  wl1948       0        1        1      1         1    1650            3.5\n",
       "3487  ka9393       1        1        0      0         1    1800            8.0\n",
       "3488  rh6239       1        0        1      0         1    1100            4.5\n",
       "3489  be8040       0        1        0      1         1    1300            1.0\n",
       "\n",
       "[3490 rows x 8 columns]"
      ]
     },
     "execution_count": 83,
     "metadata": {},
     "output_type": "execute_result"
    }
   ],
   "source": [
    "meta_data"
   ]
  },
  {
   "cell_type": "code",
   "execution_count": 60,
   "id": "d51cb4f3",
   "metadata": {},
   "outputs": [],
   "source": [
    "test_person = meta_data.iloc[0]"
   ]
  },
  {
   "cell_type": "code",
   "execution_count": 61,
   "id": "7dab08c8",
   "metadata": {},
   "outputs": [
    {
     "data": {
      "text/plain": [
       "Uni              hs2498\n",
       "Gender                0\n",
       "Smoking               1\n",
       "Alchohol              1\n",
       "Habit                 1\n",
       "Roommate              1\n",
       "budget             1000\n",
       "dist_from_uni       5.0\n",
       "Name: 0, dtype: object"
      ]
     },
     "execution_count": 61,
     "metadata": {},
     "output_type": "execute_result"
    }
   ],
   "source": [
    "test_person"
   ]
  },
  {
   "cell_type": "code",
   "execution_count": 109,
   "id": "8ac5d33f",
   "metadata": {},
   "outputs": [
    {
     "name": "stdout",
     "output_type": "stream",
     "text": [
      "ip is not dataframe\n"
     ]
    }
   ],
   "source": [
    "test_p_cont = np.array(get_cont_cat(test_person, 'cont')).reshape((1,2))\n",
    "db_cont = np.array(get_cont_cat(meta_data, 'cont'))"
   ]
  },
  {
   "cell_type": "code",
   "execution_count": 108,
   "id": "eb1cfdf2",
   "metadata": {},
   "outputs": [
    {
     "data": {
      "text/plain": [
       "(2, 1)"
      ]
     },
     "execution_count": 108,
     "metadata": {},
     "output_type": "execute_result"
    }
   ],
   "source": [
    "test_p_cont.shape"
   ]
  },
  {
   "cell_type": "code",
   "execution_count": 114,
   "id": "9924ca39",
   "metadata": {},
   "outputs": [
    {
     "data": {
      "text/plain": [
       "(1, 3490)"
      ]
     },
     "execution_count": 114,
     "metadata": {},
     "output_type": "execute_result"
    }
   ],
   "source": [
    "euclidean_distances(test_p_cont, db_cont).shape"
   ]
  },
  {
   "cell_type": "code",
   "execution_count": 119,
   "id": "e5fb1d7f",
   "metadata": {},
   "outputs": [
    {
     "ename": "TypeError",
     "evalue": "string indices must be integers",
     "output_type": "error",
     "traceback": [
      "\u001b[0;31m---------------------------------------------------------------------------\u001b[0m",
      "\u001b[0;31mTypeError\u001b[0m                                 Traceback (most recent call last)",
      "\u001b[0;32m<ipython-input-119-3905b7d693a6>\u001b[0m in \u001b[0;36m<module>\u001b[0;34m\u001b[0m\n\u001b[0;32m----> 1\u001b[0;31m \u001b[0mfindRoommate\u001b[0m\u001b[0;34m(\u001b[0m\u001b[0mtest_person\u001b[0m\u001b[0;34m,\u001b[0m \u001b[0mmeta_data\u001b[0m\u001b[0;34m,\u001b[0m \u001b[0;36m10\u001b[0m\u001b[0;34m,\u001b[0m \u001b[0;36m1\u001b[0m\u001b[0;34m,\u001b[0m \u001b[0;36m1\u001b[0m\u001b[0;34m)\u001b[0m\u001b[0;34m\u001b[0m\u001b[0;34m\u001b[0m\u001b[0m\n\u001b[0m",
      "\u001b[0;32m<ipython-input-118-e7f4ce760cdd>\u001b[0m in \u001b[0;36mfindRoommate\u001b[0;34m(new_person, database, n_roommates, alpha, beta)\u001b[0m\n\u001b[1;32m      1\u001b[0m \u001b[0;32mdef\u001b[0m \u001b[0mfindRoommate\u001b[0m\u001b[0;34m(\u001b[0m\u001b[0mnew_person\u001b[0m\u001b[0;34m,\u001b[0m \u001b[0mdatabase\u001b[0m\u001b[0;34m,\u001b[0m \u001b[0mn_roommates\u001b[0m\u001b[0;34m,\u001b[0m \u001b[0malpha\u001b[0m\u001b[0;34m,\u001b[0m \u001b[0mbeta\u001b[0m\u001b[0;34m)\u001b[0m\u001b[0;34m:\u001b[0m\u001b[0;34m\u001b[0m\u001b[0;34m\u001b[0m\u001b[0m\n\u001b[1;32m      2\u001b[0m     \u001b[0;31m# Split data by gender to reduce computations\u001b[0m\u001b[0;34m\u001b[0m\u001b[0;34m\u001b[0m\u001b[0m\n\u001b[0;32m----> 3\u001b[0;31m     \u001b[0mdatabase_g\u001b[0m \u001b[0;34m=\u001b[0m \u001b[0mdatabase\u001b[0m\u001b[0;34m[\u001b[0m\u001b[0mdatabase\u001b[0m\u001b[0;34m[\u001b[0m\u001b[0;34m'Gender'\u001b[0m\u001b[0;34m]\u001b[0m \u001b[0;34m==\u001b[0m \u001b[0mnew_person\u001b[0m\u001b[0;34m.\u001b[0m\u001b[0miloc\u001b[0m\u001b[0;34m[\u001b[0m\u001b[0;36m0\u001b[0m\u001b[0;34m]\u001b[0m\u001b[0;34m[\u001b[0m\u001b[0;34m'Gender'\u001b[0m\u001b[0;34m]\u001b[0m\u001b[0;34m]\u001b[0m\u001b[0;34m\u001b[0m\u001b[0;34m\u001b[0m\u001b[0m\n\u001b[0m\u001b[1;32m      4\u001b[0m \u001b[0;31m#     print(len(database_g))\u001b[0m\u001b[0;34m\u001b[0m\u001b[0;34m\u001b[0m\u001b[0m\n\u001b[1;32m      5\u001b[0m     \u001b[0mname_g\u001b[0m \u001b[0;34m=\u001b[0m \u001b[0;34m[\u001b[0m\u001b[0mname_list\u001b[0m\u001b[0;34m[\u001b[0m\u001b[0mi\u001b[0m\u001b[0;34m]\u001b[0m \u001b[0;32mfor\u001b[0m \u001b[0mi\u001b[0m \u001b[0;32min\u001b[0m \u001b[0mlist\u001b[0m\u001b[0;34m(\u001b[0m\u001b[0mdatabase_g\u001b[0m\u001b[0;34m.\u001b[0m\u001b[0mindex\u001b[0m\u001b[0;34m)\u001b[0m\u001b[0;34m]\u001b[0m\u001b[0;34m\u001b[0m\u001b[0;34m\u001b[0m\u001b[0m\n",
      "\u001b[0;31mTypeError\u001b[0m: string indices must be integers"
     ]
    }
   ],
   "source": [
    "findRoommate(test_person, meta_data, 5, 1, 1)"
   ]
  },
  {
   "cell_type": "code",
   "execution_count": 126,
   "id": "a214fd76",
   "metadata": {},
   "outputs": [
    {
     "data": {
      "text/plain": [
       "0       0\n",
       "1       0\n",
       "2       1\n",
       "3       0\n",
       "4       0\n",
       "       ..\n",
       "3485    1\n",
       "3486    0\n",
       "3487    1\n",
       "3488    1\n",
       "3489    0\n",
       "Name: Gender, Length: 3490, dtype: int64"
      ]
     },
     "execution_count": 126,
     "metadata": {},
     "output_type": "execute_result"
    }
   ],
   "source": [
    "meta_data['Gender']"
   ]
  }
 ],
 "metadata": {
  "kernelspec": {
   "display_name": "Python 3",
   "language": "python",
   "name": "python3"
  },
  "language_info": {
   "codemirror_mode": {
    "name": "ipython",
    "version": 3
   },
   "file_extension": ".py",
   "mimetype": "text/x-python",
   "name": "python",
   "nbconvert_exporter": "python",
   "pygments_lexer": "ipython3",
   "version": "3.9.7"
  }
 },
 "nbformat": 4,
 "nbformat_minor": 5
}
